{
 "cells": [
  {
   "cell_type": "code",
   "execution_count": 1,
   "metadata": {
    "collapsed": false
   },
   "outputs": [],
   "source": [
    "import numpy as np\n",
    "import pandas as pd\n",
    "import xgboost as xgb\n",
    "from sklearn.cross_validation import StratifiedKFold\n",
    "from sklearn.ensemble import RandomForestClassifier, ExtraTreesClassifier, GradientBoostingClassifier\n",
    "from sklearn.linear_model import LogisticRegression\n",
    "from sklearn.grid_search import GridSearchCV\n",
    "from sklearn.feature_extraction import DictVectorizer\n",
    "from sklearn.metrics import accuracy_score\n",
    "from sklearn.cross_validation import train_test_split"
   ]
  },
  {
   "cell_type": "code",
   "execution_count": 2,
   "metadata": {
    "collapsed": true
   },
   "outputs": [],
   "source": [
    "data_trn = pd.read_csv('train.csv', index_col=0)\n",
    "data_tst = pd.read_csv('test.csv', index_col=0)"
   ]
  },
  {
   "cell_type": "code",
   "execution_count": 3,
   "metadata": {
    "collapsed": false
   },
   "outputs": [
    {
     "name": "stdout",
     "output_type": "stream",
     "text": [
      "(25766, 256)\n",
      "(11042, 255)\n"
     ]
    }
   ],
   "source": [
    "print (data_trn.shape)\n",
    "print (data_tst.shape)"
   ]
  },
  {
   "cell_type": "markdown",
   "metadata": {
    "collapsed": false
   },
   "source": [
    "Data Engineering"
   ]
  },
  {
   "cell_type": "code",
   "execution_count": 15,
   "metadata": {
    "collapsed": false
   },
   "outputs": [
    {
     "name": "stdout",
     "output_type": "stream",
     "text": [
      "0    1\n",
      "1    1\n",
      "Name: Trans24, dtype: int64\n",
      "(17263, 255)\n",
      "(8503, 255)\n",
      "(17263,)\n"
     ]
    }
   ],
   "source": [
    "#Read Datasets\n",
    "\n",
    "recodecustomer={'Old':1,'New':0}\n",
    "recodenew={'Enable':1,'Not-Enable':0}\n",
    "\n",
    "train = pd.read_csv(\"train.csv\")\n",
    "test = pd.read_csv(\"test.csv\")\n",
    "#print(pd.isnull(train).any())\n",
    "\n",
    "#fillna(value=None, method=None, axis=None, inplace=False, limit=None, downcast=None, **kwargs)\n",
    "\n",
    "\n",
    "\n",
    "train['Cust_status']=train['Cust_status'].map(recodecustomer)\n",
    "train['Trans24']=train['Trans24'].map(recodenew)\n",
    "train['Trans25']=train['Trans25'].map(recodenew)\n",
    "train['Trans26']=train['Trans26'].map(recodenew)\n",
    "train['Trans27']=train['Trans27'].map(recodenew)\n",
    "print(train['Trans24'].head(2))\n",
    "\n",
    "y_train=train[\"Active_Customer\"]\n",
    "train=train.where(pd.notnull(train), train.mean(), axis='columns')\n",
    "#train=train.fillna(0)\n",
    "test=test.where(pd.notnull(test), test.mean(), axis='columns')\n",
    "\n",
    "#train=train.fillna(0)\n",
    "#test=test.fillna(0)\n",
    "train=train.drop([\"Cust_id\"],axis=1)\n",
    "train=train.drop([\"Active_Customer\"],axis=1)\n",
    "\n",
    "test['Cust_status']=test['Cust_status'].map(recodecustomer)\n",
    "test['Trans24']=test['Trans24'].map(recodenew)\n",
    "test['Trans25']=test['Trans25'].map(recodenew)\n",
    "test['Trans26']=test['Trans26'].map(recodenew)\n",
    "test['Trans27']=test['Trans27'].map(recodenew)\n",
    "\n",
    "y_id = test[\"Cust_id\"]\n",
    "test = test.drop([\"Cust_id\"],axis=1)\n",
    "\n",
    "X_train,X_test,Y_train,Y_test=train_test_split(train, y_train, test_size=0.33, random_state=42)\n",
    "#for original train test data\n",
    "#train_matrix = train.as_matrix()\n",
    "#test_matrix=test.as_matrix()\n",
    "\n",
    "y_train_matrix = Y_train.as_matrix()\n",
    "\n",
    "#for test train split\n",
    "train_matrix= X_train.as_matrix()\n",
    "test_matrix = X_test.as_matrix()\n",
    "\n",
    "\n",
    "\n",
    "\n",
    "#pd.DataFrame.to_csv(train,'data2.csv')\n",
    "#print(train.head())\n",
    "print train_matrix.shape\n",
    "print test_matrix.shape\n",
    "print y_train_matrix.shape"
   ]
  },
  {
   "cell_type": "code",
   "execution_count": 6,
   "metadata": {
    "collapsed": false
   },
   "outputs": [],
   "source": [
    "#print(pd.isnull(train).any())"
   ]
  },
  {
   "cell_type": "markdown",
   "metadata": {},
   "source": [
    "Using Logistic Regression"
   ]
  },
  {
   "cell_type": "code",
   "execution_count": 7,
   "metadata": {
    "collapsed": false
   },
   "outputs": [],
   "source": [
    "logistic = LogisticRegression(class_weight = \"balanced\")\n",
    "logistic.fit(train_matrix,y_train_matrix)\n",
    "y_test = logistic.predict(test_matrix)\n",
    "train_test = logistic.predict(train_matrix)\n"
   ]
  },
  {
   "cell_type": "code",
   "execution_count": 8,
   "metadata": {
    "collapsed": false
   },
   "outputs": [],
   "source": [
    "#preds = pd.DataFrame({\"Cust_id\":y_id,\"Active_Customer\":y_test})\n",
    "#preds = preds.set_index('Cust_id')\n",
    "#preds.to_csv('first.csv')\n",
    "\n",
    "\n",
    "#accuracy_score(Y_test,y_test)"
   ]
  },
  {
   "cell_type": "markdown",
   "metadata": {},
   "source": [
    "Using Xgboost classifier"
   ]
  },
  {
   "cell_type": "code",
   "execution_count": 33,
   "metadata": {
    "collapsed": false
   },
   "outputs": [],
   "source": [
    "gbm1 = xgb.XGBClassifier(max_depth=3, n_estimators=300, learning_rate=0.05).fit(train_matrix, y_train_matrix)"
   ]
  },
  {
   "cell_type": "code",
   "execution_count": 35,
   "metadata": {
    "collapsed": false
   },
   "outputs": [
    {
     "data": {
      "text/plain": [
       "0.67717276255439252"
      ]
     },
     "execution_count": 35,
     "metadata": {},
     "output_type": "execute_result"
    }
   ],
   "source": [
    "predictions = gbm1.predict(test_matrix)\n",
    "accuracy_score(Y_test,predictions)"
   ]
  },
  {
   "cell_type": "code",
   "execution_count": 11,
   "metadata": {
    "collapsed": false
   },
   "outputs": [],
   "source": [
    "preds = pd.DataFrame({\"Cust_id\":y_id,\"Active_Customer\":predictions})\n",
    "preds = preds.set_index('Cust_id')\n",
    "preds.to_csv('second.csv')"
   ]
  },
  {
   "cell_type": "code",
   "execution_count": 16,
   "metadata": {
    "collapsed": false
   },
   "outputs": [],
   "source": []
  },
  {
   "cell_type": "markdown",
   "metadata": {},
   "source": [
    "Using Random Forest Classifier"
   ]
  },
  {
   "cell_type": "code",
   "execution_count": 23,
   "metadata": {
    "collapsed": false
   },
   "outputs": [],
   "source": [
    "from sklearn.ensemble import RandomForestClassifier\n",
    "#Assumed you have, X (predictor) and Y (target) for training data set and x_test(predictor) of test_dataset\n",
    "# Create Random Forest object\n",
    "model= RandomForestClassifier(criterion=\"entropy\")\n",
    "# Train the model using the training sets and check score\n",
    "model.fit(train_matrix,y_train_matrix)\n",
    "#Predict Output\n",
    "predicted_randomforest= model.predict(test_matrix)"
   ]
  },
  {
   "cell_type": "code",
   "execution_count": 24,
   "metadata": {
    "collapsed": false
   },
   "outputs": [
    {
     "data": {
      "text/plain": [
       "0.63624603081265441"
      ]
     },
     "execution_count": 24,
     "metadata": {},
     "output_type": "execute_result"
    }
   ],
   "source": [
    "accuracy_score(Y_test,predicted_randomforest)"
   ]
  },
  {
   "cell_type": "markdown",
   "metadata": {},
   "source": [
    "Doing PCA"
   ]
  },
  {
   "cell_type": "code",
   "execution_count": 29,
   "metadata": {
    "collapsed": false
   },
   "outputs": [],
   "source": [
    "from sklearn import decomposition\n",
    "#Assumed you have training and test data set as train and test\n",
    "# Create PCA obeject \n",
    "pca= decomposition.PCA(n_components=10) #default value of k =min(n_sample, n_features)\n",
    "# For Factor analysis\n",
    "#fa= decomposition.FactorAnalysis()\n",
    "# Reduced the dimension of training dataset using PCA\n",
    "train_reduced = pca.fit_transform(train_matrix)\n",
    "#Reduced the dimension of test dataset\n",
    "test_reduced = pca.transform(test_matrix)"
   ]
  },
  {
   "cell_type": "markdown",
   "metadata": {},
   "source": [
    "Using SVM after PCA"
   ]
  },
  {
   "cell_type": "code",
   "execution_count": 30,
   "metadata": {
    "collapsed": true
   },
   "outputs": [],
   "source": [
    "#Import Library\n",
    "from sklearn import svm\n",
    "#Assumed you have, X (predictor) and Y (target) for training data set and x_test(predictor) of test_dataset\n",
    "# Create SVM classification object \n",
    "model = svm.SVC() \n",
    "# there is various option associated with it, this is simple for classification. You can refer link, for mo# re detail.\n",
    "# Train the model using the training sets and check score\n",
    "model.fit(train_reduced,y_train_matrix)\n",
    "#model.score(X, y)\n",
    "#Predict Output\n",
    "predicted= model.predict(test_reduced)"
   ]
  },
  {
   "cell_type": "code",
   "execution_count": 31,
   "metadata": {
    "collapsed": false
   },
   "outputs": [
    {
     "data": {
      "text/plain": [
       "0.5211101964012701"
      ]
     },
     "execution_count": 31,
     "metadata": {},
     "output_type": "execute_result"
    }
   ],
   "source": [
    "accuracy_score(Y_test,predicted)"
   ]
  },
  {
   "cell_type": "markdown",
   "metadata": {},
   "source": [
    "Using XGBoost after PCA"
   ]
  },
  {
   "cell_type": "code",
   "execution_count": 32,
   "metadata": {
    "collapsed": false
   },
   "outputs": [
    {
     "data": {
      "text/plain": [
       "0.65329883570504532"
      ]
     },
     "execution_count": 32,
     "metadata": {},
     "output_type": "execute_result"
    }
   ],
   "source": [
    "gbm = xgb.XGBClassifier(max_depth=3, n_estimators=300, learning_rate=0.05).fit(train_reduced, y_train_matrix)\n",
    "predictions = gbm.predict(test_reduced)\n",
    "accuracy_score(Y_test,predictions)"
   ]
  },
  {
   "cell_type": "code",
   "execution_count": null,
   "metadata": {
    "collapsed": true
   },
   "outputs": [],
   "source": []
  }
 ],
 "metadata": {
  "kernelspec": {
   "display_name": "Python 2",
   "language": "python",
   "name": "python2"
  },
  "language_info": {
   "codemirror_mode": {
    "name": "ipython",
    "version": 2
   },
   "file_extension": ".py",
   "mimetype": "text/x-python",
   "name": "python",
   "nbconvert_exporter": "python",
   "pygments_lexer": "ipython2",
   "version": "2.7.11"
  }
 },
 "nbformat": 4,
 "nbformat_minor": 0
}
